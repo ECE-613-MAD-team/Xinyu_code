{
 "cells": [
  {
   "cell_type": "code",
   "execution_count": 1,
   "metadata": {},
   "outputs": [],
   "source": [
    "#import torch\n",
    "##import torch.nn as nn\n",
    "#import torchvision.models as models\n",
    "#from torchvision import transforms\n",
    "#from skimage import io\n",
    "#import numpy as np\n",
    "#from skimage.transform import rescale, resize\n",
    "#from PIL import Image \n",
    "\n",
    "#import matplotlib.pyplot as plt\n",
    "#from collections import *\n",
    "\n",
    "#%pylab inline\n",
    "import glob\n",
    "import sys\n",
    "import os\n",
    "from collections import OrderedDict\n",
    "import caffe\n",
    "base_dir = os.getcwd()\n",
    "sys.path.append(base_dir)\n",
    "from DeepImageSynthesis import *\n",
    "VGGweights = os.path.join(base_dir, 'Models/vgg_normalised.caffemodel')\n",
    "VGGmodel = os.path.join(base_dir, 'Models/VGG_ave_pool_deploy.prototxt')\n",
    "imagenet_mean = np.array([ 0.40760392,  0.45795686,  0.48501961]) #mean for color channels (bgr)\n",
    "im_dir = os.path.join(base_dir, 'Images/')\n",
    "gpu = 0\n",
    "caffe.set_mode_gpu() #for cpu mode do 'caffe.set_mode_cpu()'\n",
    "caffe.set_device(gpu)"
   ]
  },
  {
   "cell_type": "code",
   "execution_count": null,
   "metadata": {},
   "outputs": [
    {
     "name": "stderr",
     "output_type": "stream",
     "text": [
      "/home/x227guo/.virtualenvs/a613/lib/python3.6/site-packages/skimage/io/_io.py:48: UserWarning: `as_grey` has been deprecated in favor of `as_gray`\n",
      "  warn('`as_grey` has been deprecated in favor of `as_gray`')\n"
     ]
    }
   ],
   "source": [
    "#load source image\n",
    "source_img_name = glob.glob1(im_dir, 'pebbles.jpg')[0]\n",
    "source_img_org = caffe.io.load_image(im_dir + source_img_name)\n",
    "im_size = 256.\n",
    "[source_img, net] = load_image(im_dir + source_img_name, im_size, \n",
    "                            VGGmodel, VGGweights, imagenet_mean, \n",
    "                            show_img=True)\n",
    "im_size = asarray(source_img.shape[-2:])"
   ]
  },
  {
   "cell_type": "code",
   "execution_count": 5,
   "metadata": {},
   "outputs": [
    {
     "data": {
      "text/plain": [
       "0.0"
      ]
     },
     "execution_count": 5,
     "metadata": {},
     "output_type": "execute_result"
    }
   ],
   "source": [
    "source_img_org.min()"
   ]
  },
  {
   "cell_type": "code",
   "execution_count": null,
   "metadata": {},
   "outputs": [],
   "source": []
  },
  {
   "cell_type": "code",
   "execution_count": null,
   "metadata": {},
   "outputs": [],
   "source": []
  }
 ],
 "metadata": {
  "kernelspec": {
   "display_name": "Python 3",
   "language": "python",
   "name": "python3"
  },
  "language_info": {
   "codemirror_mode": {
    "name": "ipython",
    "version": 3
   },
   "file_extension": ".py",
   "mimetype": "text/x-python",
   "name": "python",
   "nbconvert_exporter": "python",
   "pygments_lexer": "ipython3",
   "version": "3.6.5"
  }
 },
 "nbformat": 4,
 "nbformat_minor": 2
}
